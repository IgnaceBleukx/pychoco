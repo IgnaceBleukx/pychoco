{
 "cells": [
  {
   "cell_type": "markdown",
   "source": [
    "# Grah colouring problem\n",
    "\n",
    "The graph coloring problem is a fundamental challenge in computer science that involves assigning colors to the vertices of a graph such that no two adjacent vertices share the same color.\n",
    "\n",
    "In this notebook, we are going to model and solve a graph coloring problem using the Python package `pyChoco`.\n",
    "\n",
    "First of all, we need to import the necessary libraries."
   ],
   "metadata": {
    "collapsed": false
   }
  },
  {
   "cell_type": "code",
   "execution_count": null,
   "outputs": [],
   "source": [
    "import geopandas as gpd\n",
    "import networkx as nx\n",
    "import matplotlib.pyplot as plt\n",
    "import numpy as np\n",
    "from libpysal import weights"
   ],
   "metadata": {
    "collapsed": false
   }
  },
  {
   "cell_type": "markdown",
   "source": [
    "We can read in the data and construct the graph. The instructions are taken from [NetworkX](https://networkx.org/documentation/stable/auto_examples/geospatial/plot_polygons.html)."
   ],
   "metadata": {
    "collapsed": false
   }
  },
  {
   "cell_type": "code",
   "execution_count": null,
   "outputs": [],
   "source": [
    "filepath = \"data/africa_no_islands.gpkg\"\n",
    "africa_countries = gpd.read_file(filepath)\n",
    "africa_countries = africa_countries.to_crs(crs=3857)\n",
    "centroids = np.column_stack((africa_countries.centroid.x, africa_countries.centroid.y))\n",
    "queen = weights.Queen.from_dataframe(africa_countries, silence_warnings = True)\n",
    "graph = queen.to_networkx()\n",
    "positions = dict(zip(graph.nodes, centroids))"
   ],
   "metadata": {
    "collapsed": false
   }
  },
  {
   "cell_type": "markdown",
   "source": [
    "We can now plot the graph and the connected countries."
   ],
   "metadata": {
    "collapsed": false
   }
  },
  {
   "cell_type": "code",
   "execution_count": null,
   "outputs": [],
   "source": [
    "# plot with a nice basemap\n",
    "ax = africa_countries.plot(linewidth=1, edgecolor=\"grey\", facecolor=\"white\")\n",
    "ax.axis(\"off\")\n",
    "nx.draw(graph, positions, ax=ax, node_size=5, node_color=\"blue\", edge_color=\"orange\")\n",
    "plt.show()"
   ],
   "metadata": {
    "collapsed": false
   }
  },
  {
   "cell_type": "markdown",
   "source": [
    "## Model the problem as a CSP\n",
    "\n",
    "Choco makes it easy  to model the graph coloring problem as a CSP. We can use the `all_different` constraint to ensure that no two adjacent vertices share the same color.\n",
    "First of all, we need to declare the model."
   ],
   "metadata": {
    "collapsed": false
   }
  },
  {
   "cell_type": "code",
   "execution_count": null,
   "outputs": [],
   "source": [
    "from pychoco import Model\n",
    "model = Model(\"Graph Coloring\")"
   ],
   "metadata": {
    "collapsed": false
   }
  },
  {
   "cell_type": "markdown",
   "source": [
    "We can now declare the variables. We have one variable for each country. The domain of each variable is the set of colors.\n",
    "Four colors are enough to color the map in such a way that no two adjacent countries share the same color."
   ],
   "metadata": {
    "collapsed": false
   }
  },
  {
   "cell_type": "code",
   "execution_count": null,
   "outputs": [],
   "source": [
    "vars = [model.intvar(0, 3, name=africa_countries['COUNTRY'][c]) for c in graph.nodes]"
   ],
   "metadata": {
    "collapsed": false
   }
  },
  {
   "cell_type": "markdown",
   "source": [
    "We can now add the constraints. We need to ensure that no two adjacent countries share the same color.\n",
    "To do so, as a first step, we need to find all the cliques in the graph. A clique is a subset of vertices of an undirected graph such that every two distinct vertices in the clique are adjacent.\n",
    "In our case, each clique represents a set of adjacent countries.\n",
    "Thus, countries in the same clique cannot share the same color. To ensure this, we can use the `all_different` constraint, one for each clique."
   ],
   "metadata": {
    "collapsed": false
   }
  },
  {
   "cell_type": "code",
   "execution_count": null,
   "outputs": [],
   "source": [
    "all_cliques = nx.find_cliques(graph)\n",
    "for clique in all_cliques:\n",
    "    model.all_different([vars[c] for c in clique]).post()"
   ],
   "metadata": {
    "collapsed": false
   }
  },
  {
   "cell_type": "markdown",
   "source": [
    "Now we can solve the problem. Finding a solution is enough to color the map."
   ],
   "metadata": {
    "collapsed": false
   }
  },
  {
   "cell_type": "code",
   "execution_count": null,
   "outputs": [],
   "source": [
    "model.get_solver().solve()"
   ],
   "metadata": {
    "collapsed": false
   }
  },
  {
   "cell_type": "markdown",
   "source": [
    "We can now plot the solution.\n",
    "Each variable is associated with a country. The value of the variable is the color of the country, from 0 to 3."
   ],
   "metadata": {
    "collapsed": false
   }
  },
  {
   "cell_type": "code",
   "execution_count": null,
   "outputs": [],
   "source": [
    "ax = africa_countries.boundary.plot(edgecolor=\"grey\",)\n",
    "ax.axis(\"off\")\n",
    "cmap = plt.matplotlib.colormaps.get_cmap('Pastel1')\n",
    "colors = [cmap(i) for i in range(4)]\n",
    "for var in vars:\n",
    "    #print(vars[i].name, colors[vars[i].get_value()])\n",
    "    africa_countries[africa_countries.COUNTRY == var.name].plot(edgecolor=u'gray', color=colors[var.get_value()], ax=ax)\n",
    "plt.show()"
   ],
   "metadata": {
    "collapsed": false
   }
  },
  {
   "cell_type": "markdown",
   "source": [
    "The following code plots the map with the countries colored according to the solution.\n",
    "We can visually check that no two adjacent countries share the same color."
   ],
   "metadata": {
    "collapsed": false
   }
  }
 ],
 "metadata": {
  "kernelspec": {
   "display_name": "Python 3",
   "language": "python",
   "name": "python3"
  },
  "language_info": {
   "codemirror_mode": {
    "name": "ipython",
    "version": 2
   },
   "file_extension": ".py",
   "mimetype": "text/x-python",
   "name": "python",
   "nbconvert_exporter": "python",
   "pygments_lexer": "ipython2",
   "version": "2.7.6"
  }
 },
 "nbformat": 4,
 "nbformat_minor": 0
}
