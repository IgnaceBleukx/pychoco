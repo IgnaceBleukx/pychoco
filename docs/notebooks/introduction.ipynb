{
 "cells": [
  {
   "cell_type": "markdown",
   "source": [
    "# Introduction to pyChoco\n",
    "\n",
    "This is an example `.ipynb` file that shows how to use pyChoco.\n",
    "\n",
    "Pychoco's API is quite close to Choco's Java API. The first thing to do is to import the library and create a model object:"
   ],
   "metadata": {
    "collapsed": false
   }
  },
  {
   "cell_type": "code",
   "execution_count": 13,
   "outputs": [],
   "source": [
    "from pychoco import Model\n",
    "\n",
    "model = Model(\"My Choco Model\")"
   ],
   "metadata": {
    "collapsed": false,
    "ExecuteTime": {
     "end_time": "2023-07-10T15:52:51.771637Z",
     "start_time": "2023-07-10T15:52:51.759481Z"
    }
   }
  },
  {
   "cell_type": "markdown",
   "source": [
    "Then, you can use this model object to create variables:"
   ],
   "metadata": {
    "collapsed": false
   }
  },
  {
   "cell_type": "code",
   "execution_count": 8,
   "outputs": [],
   "source": [
    "intvars = model.intvars(10, 0, 10)\n",
    "sum_var = model.intvar(0, 100)"
   ],
   "metadata": {
    "collapsed": false,
    "ExecuteTime": {
     "end_time": "2023-07-10T15:52:27.329151Z",
     "start_time": "2023-07-10T15:52:27.319157Z"
    }
   }
  },
  {
   "cell_type": "markdown",
   "source": [
    "You can also create views from this Model object:"
   ],
   "metadata": {
    "collapsed": false
   }
  },
  {
   "cell_type": "code",
   "execution_count": 14,
   "outputs": [],
   "source": [
    "b6 = model.int_ge_view(intvars[6], 6)"
   ],
   "metadata": {
    "collapsed": false,
    "ExecuteTime": {
     "end_time": "2023-07-10T15:53:17.806986Z",
     "start_time": "2023-07-10T15:53:17.797035Z"
    }
   }
  },
  {
   "cell_type": "markdown",
   "source": [
    "Create and post (or reify) constraints:"
   ],
   "metadata": {
    "collapsed": false
   }
  },
  {
   "cell_type": "code",
   "execution_count": 10,
   "outputs": [],
   "source": [
    "model.all_different(intvars).post()\n",
    "model.sum(intvars, \"=\", sum_var).post()\n",
    "b7 = model.arithm(intvars[7], \">=\", 7).reify()"
   ],
   "metadata": {
    "collapsed": false,
    "ExecuteTime": {
     "end_time": "2023-07-10T15:52:28.425914Z",
     "start_time": "2023-07-10T15:52:28.417757Z"
    }
   }
  },
  {
   "cell_type": "markdown",
   "source": [
    "Solve your problem:"
   ],
   "metadata": {
    "collapsed": false
   }
  },
  {
   "cell_type": "code",
   "execution_count": 11,
   "outputs": [
    {
     "data": {
      "text/plain": "True"
     },
     "execution_count": 11,
     "metadata": {},
     "output_type": "execute_result"
    }
   ],
   "source": [
    "model.get_solver().solve()"
   ],
   "metadata": {
    "collapsed": false,
    "ExecuteTime": {
     "end_time": "2023-07-10T15:52:28.915515Z",
     "start_time": "2023-07-10T15:52:28.896500Z"
    }
   }
  },
  {
   "cell_type": "markdown",
   "source": [
    "And retrieve the solution:"
   ],
   "metadata": {
    "collapsed": false
   }
  },
  {
   "cell_type": "code",
   "execution_count": 15,
   "outputs": [
    {
     "name": "stdout",
     "output_type": "stream",
     "text": [
      "intvars = [3, 5, 9, 6, 7, 2, 0, 1, 4, 8]\n",
      "sum = 45\n",
      "intvar[6] >= 6 ? False\n",
      "intvar[7] >= 7 ? False\n"
     ]
    }
   ],
   "source": [
    "print(\"intvars = {}\".format([i.get_value() for i in intvars]))\n",
    "print(\"sum = {}\".format(sum_var.get_value()))\n",
    "print(\"intvar[6] >= 6 ? {}\".format(b6.get_value()))\n",
    "print(\"intvar[7] >= 7 ? {}\".format(b7.get_value()))"
   ],
   "metadata": {
    "collapsed": false,
    "ExecuteTime": {
     "end_time": "2023-07-10T15:53:47.143999Z",
     "start_time": "2023-07-10T15:53:47.136985Z"
    }
   }
  }
 ],
 "metadata": {
  "kernelspec": {
   "display_name": "Python 3",
   "language": "python",
   "name": "python3"
  },
  "language_info": {
   "codemirror_mode": {
    "name": "ipython",
    "version": 2
   },
   "file_extension": ".py",
   "mimetype": "text/x-python",
   "name": "python",
   "nbconvert_exporter": "python",
   "pygments_lexer": "ipython2",
   "version": "2.7.6"
  }
 },
 "nbformat": 4,
 "nbformat_minor": 0
}
