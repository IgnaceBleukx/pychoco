{
 "cells": [
  {
   "cell_type": "markdown",
   "source": [
    "# Nonogram Solver\n",
    "\n",
    "A nonogram, also known as a \"paint-by-numbers\" puzzle or a \"Japanese crossword,\" is a logic-based grid puzzle. It involves a rectangular grid of cells that need to be filled or left blank to reveal a hidden picture or pattern.\n",
    "\n",
    "In this notebook, we are going to model and solve a nonogram using the Python package `pyChoco`.\n",
    "\n",
    "First of all, we need to declare the nonogram we want to solve. We will use the following nonogram as an example:"
   ],
   "metadata": {
    "collapsed": false
   }
  },
  {
   "cell_type": "code",
   "execution_count": 1,
   "outputs": [],
   "source": [
    "background_color = (255, 255, 255)\n",
    "dimension = (20, 16)\n",
    "nonogram = {'rows': [[(6, (44, 70, 33))], [(1, (44, 70, 33)), (6, (87, 154, 65)), (1, (44, 70, 33))],\n",
    "                     [(3, (44, 70, 33)), (1, (87, 154, 65)), (2, (44, 70, 33)), (8, (87, 154, 65)), (2, (44, 70, 33)),\n",
    "                      (1, (87, 154, 65)), (3, (44, 70, 33))],\n",
    "                     [(2, (44, 70, 33)), (3, (87, 154, 65)), (1, (44, 70, 33)), (3, (0, 0, 0)), (2, (87, 154, 65)),\n",
    "                      (3, (0, 0, 0)), (1, (44, 70, 33)), (3, (87, 154, 65)), (2, (44, 70, 33))],\n",
    "                     [(2, (223, 166, 191)), (1, (175, 46, 100)), (3, (87, 154, 65)), (2, (0, 0, 0)), (2, (87, 154, 65)),\n",
    "                      (2, (0, 0, 0)), (3, (87, 154, 65)), (1, (175, 46, 100)), (2, (223, 166, 191))],\n",
    "                     [(2, (223, 166, 191)), (1, (44, 70, 33)), (2, (87, 154, 65)), (3, (0, 0, 0)), (2, (87, 154, 65)),\n",
    "                      (3, (0, 0, 0)), (2, (87, 154, 65)), (1, (44, 70, 33)), (2, (223, 166, 191))],\n",
    "                     [(2, (223, 166, 191)), (2, (44, 70, 33)), (8, (87, 154, 65)), (2, (44, 70, 33)),\n",
    "                      (2, (223, 166, 191))], [(1, (0, 0, 0)), (12, (94, 57, 15)), (1, (0, 0, 0))],\n",
    "                     [(1, (0, 0, 0)), (3, (246, 202, 149)), (6, (94, 57, 15)), (3, (246, 202, 149)), (1, (0, 0, 0))],\n",
    "                     [(1, (0, 0, 0)), (1, (246, 202, 149)), (8, (94, 57, 15)), (1, (246, 202, 149)), (1, (0, 0, 0))],\n",
    "                     [(1, (0, 0, 0)), (2, (246, 202, 149)), (1, (94, 57, 15)), (1, (246, 202, 149)), (2, (94, 57, 15)),\n",
    "                      (1, (246, 202, 149)), (1, (94, 57, 15)), (2, (246, 202, 149)), (1, (0, 0, 0))],\n",
    "                     [(1, (87, 154, 65)), (1, (0, 0, 0)), (1, (246, 202, 149)), (1, (94, 57, 15)), (1, (246, 202, 149)),\n",
    "                      (2, (94, 57, 15)), (1, (246, 202, 149)), (1, (94, 57, 15)), (1, (246, 202, 149)), (1, (0, 0, 0)),\n",
    "                      (1, (87, 154, 65))],\n",
    "                     [(1, (0, 0, 0)), (1, (246, 202, 149)), (1, (94, 57, 15)), (1, (246, 202, 149)), (2, (94, 57, 15)),\n",
    "                      (1, (246, 202, 149)), (1, (94, 57, 15)), (1, (246, 202, 149)), (1, (0, 0, 0))],\n",
    "                     [(1, (0, 0, 0)), (2, (94, 57, 15)), (1, (246, 202, 149)), (2, (94, 57, 15)), (1, (246, 202, 149)),\n",
    "                      (2, (94, 57, 15)), (1, (0, 0, 0))],\n",
    "                     [(1, (0, 0, 0)), (2, (246, 202, 149)), (2, (94, 57, 15)), (2, (246, 202, 149)), (1, (0, 0, 0))],\n",
    "                     [(6, (0, 0, 0))]],\n",
    "            'columns': [[(2, (44, 70, 33)), (1, (223, 166, 191))], [(2, (44, 70, 33)), (2, (223, 166, 191))],\n",
    "                        [(1, (44, 70, 33)), (1, (87, 154, 65)), (1, (175, 46, 100)), (2, (223, 166, 191))],\n",
    "                        [(3, (87, 154, 65)), (1, (44, 70, 33)), (1, (223, 166, 191)), (2, (0, 0, 0))],\n",
    "                        [(1, (44, 70, 33)), (3, (87, 154, 65)), (1, (44, 70, 33)), (1, (94, 57, 15)),\n",
    "                         (1, (246, 202, 149)), (2, (0, 0, 0)), (1, (87, 154, 65))],\n",
    "                        [(2, (44, 70, 33)), (2, (87, 154, 65)), (1, (44, 70, 33)), (1, (94, 57, 15)),\n",
    "                         (3, (246, 202, 149)), (3, (0, 0, 0))],\n",
    "                        [(1, (44, 70, 33)), (1, (87, 154, 65)), (3, (0, 0, 0)), (1, (87, 154, 65)), (1, (94, 57, 15)),\n",
    "                         (1, (246, 202, 149)), (1, (94, 57, 15)), (3, (246, 202, 149)), (1, (94, 57, 15)),\n",
    "                         (1, (0, 0, 0))],\n",
    "                        [(1, (44, 70, 33)), (2, (87, 154, 65)), (3, (0, 0, 0)), (1, (87, 154, 65)), (7, (94, 57, 15)),\n",
    "                         (1, (246, 202, 149)), (1, (0, 0, 0))],\n",
    "                        [(1, (44, 70, 33)), (2, (87, 154, 65)), (1, (0, 0, 0)), (1, (0, 0, 0)), (1, (87, 154, 65)),\n",
    "                         (3, (94, 57, 15)), (5, (246, 202, 149)), (1, (0, 0, 0))],\n",
    "                        [(1, (44, 70, 33)), (6, (87, 154, 65)), (8, (94, 57, 15)), (1, (0, 0, 0))],\n",
    "                        [(1, (44, 70, 33)), (6, (87, 154, 65)), (8, (94, 57, 15)), (1, (0, 0, 0))],\n",
    "                        [(1, (44, 70, 33)), (2, (87, 154, 65)), (3, (0, 0, 0)), (1, (87, 154, 65)), (3, (94, 57, 15)),\n",
    "                         (5, (246, 202, 149)), (1, (0, 0, 0))],\n",
    "                        [(1, (44, 70, 33)), (2, (87, 154, 65)), (3, (0, 0, 0)), (1, (87, 154, 65)), (7, (94, 57, 15)),\n",
    "                         (1, (246, 202, 149)), (1, (0, 0, 0))],\n",
    "                        [(1, (44, 70, 33)), (1, (87, 154, 65)), (1, (0, 0, 0)), (1, (0, 0, 0)), (1, (87, 154, 65)),\n",
    "                         (1, (94, 57, 15)), (1, (246, 202, 149)), (1, (94, 57, 15)), (3, (246, 202, 149)),\n",
    "                         (1, (94, 57, 15)), (1, (0, 0, 0))],\n",
    "                        [(2, (44, 70, 33)), (2, (87, 154, 65)), (1, (44, 70, 33)), (1, (94, 57, 15)),\n",
    "                         (3, (246, 202, 149)), (3, (0, 0, 0))],\n",
    "                        [(1, (44, 70, 33)), (3, (87, 154, 65)), (1, (44, 70, 33)), (1, (94, 57, 15)),\n",
    "                         (1, (246, 202, 149)), (2, (0, 0, 0)), (1, (87, 154, 65))],\n",
    "                        [(3, (87, 154, 65)), (1, (44, 70, 33)), (1, (223, 166, 191)), (2, (0, 0, 0))],\n",
    "                        [(1, (44, 70, 33)), (1, (87, 154, 65)), (1, (175, 46, 100)), (2, (223, 166, 191))],\n",
    "                        [(2, (44, 70, 33)), (2, (223, 166, 191))], [(2, (44, 70, 33)), (1, (223, 166, 191))]]}\n",
    "# get colors from rows and columns\n",
    "colors = set()\n",
    "for row in nonogram['rows']:\n",
    "    for count, color in row:\n",
    "        colors.add(color)\n",
    "for col in nonogram['columns']:\n",
    "    for count, color in col:\n",
    "        colors.add(color)\n",
    "colors = sorted(list(colors))\n",
    "colors = [background_color] + colors"
   ],
   "metadata": {
    "collapsed": false,
    "ExecuteTime": {
     "end_time": "2023-07-12T16:21:58.321291Z",
     "start_time": "2023-07-12T16:21:58.311705Z"
    }
   }
  },
  {
   "cell_type": "markdown",
   "source": [
    "Colors are defined in RGB format. The first color is the background color, the others are the colors of the nonogram.\n",
    "\n",
    "## A CP model for the nonogram\n",
    "\n",
    "The nonogram is modeled as a set of constraints on a grid of variables. Each variable is an integer between 0 and the number of colors minus one.\n",
    "The value 0 is the background color, the other values are the colors of the nonogram.\n",
    "The constraints are defined by a deterministic finite automaton (DFA) that accepts the words that represent the rows and columns of the nonogram. The DFA is defined by a regular expression that is built from the rows and columns of the nonogram. The regular expression is built based on the information declared in `nonogram`.\n",
    "\n",
    "But, to begin, we have to create a model."
   ],
   "metadata": {
    "collapsed": false
   }
  },
  {
   "cell_type": "code",
   "execution_count": 2,
   "outputs": [],
   "source": [
    "from pychoco import Model\n",
    "\n",
    "model = Model(\"Nonogram\")"
   ],
   "metadata": {
    "collapsed": false,
    "ExecuteTime": {
     "end_time": "2023-07-12T16:21:58.369173Z",
     "start_time": "2023-07-12T16:21:58.323047Z"
    }
   }
  },
  {
   "cell_type": "markdown",
   "source": [
    "The grid of variables is created. The variables are named `cell_i_j` where `i` is the row and `j` is the column.\n",
    "The values of the variables are between 0 and the number of colors minus one."
   ],
   "metadata": {
    "collapsed": false
   }
  },
  {
   "cell_type": "code",
   "execution_count": 3,
   "outputs": [],
   "source": [
    "cells = [[model.intvar(0, len(colors)-1, f\"cell_{i}_{j}\") for j in range(dimension[0])] for i in range(dimension[1])]"
   ],
   "metadata": {
    "collapsed": false,
    "ExecuteTime": {
     "end_time": "2023-07-12T16:21:58.369382Z",
     "start_time": "2023-07-12T16:21:58.358916Z"
    }
   }
  },
  {
   "cell_type": "markdown",
   "source": [
    "The DFA is defined by a regular expression that is built from the rows and columns of the nonogram.\n",
    "To ease the construction of the regular expression, we define a function that returns the regular expression for a row or a column."
   ],
   "metadata": {
    "collapsed": false
   }
  },
  {
   "cell_type": "code",
   "execution_count": 4,
   "outputs": [],
   "source": [
    "from pychoco import FiniteAutomaton\n",
    "\n",
    "def dfa(sequence, rules):\n",
    "    regexp = f\"{colors.index(background_color)}*\"\n",
    "    for i, (count, color) in enumerate(rules):\n",
    "        regexp += f\"{colors.index(color)}{{{count}}}{colors.index(background_color)}*\"\n",
    "    model.regular(sequence, FiniteAutomaton(regexp, bounds=[0, len(colors)])).post()"
   ],
   "metadata": {
    "collapsed": false,
    "ExecuteTime": {
     "end_time": "2023-07-12T16:21:58.369466Z",
     "start_time": "2023-07-12T16:21:58.363704Z"
    }
   }
  },
  {
   "cell_type": "markdown",
   "source": [
    "Then, an iteration on the rows and columns of the nonogram is done to define the constraints."
   ],
   "metadata": {
    "collapsed": false
   }
  },
  {
   "cell_type": "code",
   "execution_count": 5,
   "outputs": [],
   "source": [
    "for i, row in enumerate(nonogram['rows']):\n",
    "    dfa(cells[i], row)\n",
    "for i, column in enumerate(nonogram['columns']):\n",
    "    dfa([col[i] for col in cells], column)"
   ],
   "metadata": {
    "collapsed": false,
    "ExecuteTime": {
     "end_time": "2023-07-12T16:21:58.415780Z",
     "start_time": "2023-07-12T16:21:58.413252Z"
    }
   }
  },
  {
   "cell_type": "markdown",
   "source": [
    "The model is ready to be solved.\n",
    "We can display some statistics about the resolution."
   ],
   "metadata": {
    "collapsed": false
   }
  },
  {
   "cell_type": "code",
   "execution_count": 6,
   "outputs": [
    {
     "name": "stdout",
     "output_type": "stream",
     "text": [
      "Model[Nonogram], 1 Solutions, Resolution time 0,001s, 1 Nodes (897,4 n/s), 0 Backtracks, 0 Backjumps, 0 Fails, 0 Restarts\n",
      "\u001B[0m"
     ]
    },
    {
     "data": {
      "text/plain": "True"
     },
     "execution_count": 6,
     "metadata": {},
     "output_type": "execute_result"
    }
   ],
   "source": [
    "model.get_solver().show_short_statistics()\n",
    "model.get_solver().solve()"
   ],
   "metadata": {
    "collapsed": false,
    "ExecuteTime": {
     "end_time": "2023-07-12T16:21:58.426622Z",
     "start_time": "2023-07-12T16:21:58.422779Z"
    }
   }
  },
  {
   "cell_type": "markdown",
   "source": [
    "Interestingly enough, the resolution is only based on deductions. No branching is needed.\n",
    "\n",
    "The solution is displayed as a grid of colors. We use the `matplotlib` library to display the grid.\n",
    "\n",
    "Say hi to ..."
   ],
   "metadata": {
    "collapsed": false
   }
  },
  {
   "cell_type": "code",
   "execution_count": 7,
   "outputs": [
    {
     "data": {
      "text/plain": "<Figure size 640x480 with 1 Axes>",
      "image/png": "[encoded data removed]"
     },
     "metadata": {},
     "output_type": "display_data"
    }
   ],
   "source": [
    "import matplotlib.pyplot as plt\n",
    "import numpy as np\n",
    "\n",
    "\n",
    "grille = np.array([[colors[cells[i][j].get_lb()] for j in range(dimension[0])] for i in range(dimension[1])])\n",
    "cmap = plt.cm.colors.ListedColormap(colors)\n",
    "\n",
    "fig, ax = plt.subplots()\n",
    "ax.imshow(grille, cmap=cmap, vmin=0, vmax=len(colors) - 1)\n",
    "ax.axis('off')\n",
    "plt.show()"
   ],
   "metadata": {
    "collapsed": false,
    "ExecuteTime": {
     "end_time": "2023-07-12T16:21:59.006819Z",
     "start_time": "2023-07-12T16:21:58.427065Z"
    }
   }
  }
 ],
 "metadata": {
  "kernelspec": {
   "display_name": "Python 3",
   "language": "python",
   "name": "python3"
  },
  "language_info": {
   "codemirror_mode": {
    "name": "ipython",
    "version": 2
   },
   "file_extension": ".py",
   "mimetype": "text/x-python",
   "name": "python",
   "nbconvert_exporter": "python",
   "pygments_lexer": "ipython2",
   "version": "2.7.6"
  }
 },
 "nbformat": 4,
 "nbformat_minor": 0
}
